{
 "cells": [
  {
   "cell_type": "code",
   "execution_count": 1,
   "metadata": {},
   "outputs": [],
   "source": [
    "import pandas as pd\n",
    "from pathlib import Path\n",
    "import statistics as st"
   ]
  },
  {
   "cell_type": "code",
   "execution_count": 2,
   "metadata": {},
   "outputs": [
    {
     "data": {
      "text/html": [
       "<div>\n",
       "<style scoped>\n",
       "    .dataframe tbody tr th:only-of-type {\n",
       "        vertical-align: middle;\n",
       "    }\n",
       "\n",
       "    .dataframe tbody tr th {\n",
       "        vertical-align: top;\n",
       "    }\n",
       "\n",
       "    .dataframe thead th {\n",
       "        text-align: right;\n",
       "    }\n",
       "</style>\n",
       "<table border=\"1\" class=\"dataframe\">\n",
       "  <thead>\n",
       "    <tr style=\"text-align: right;\">\n",
       "      <th></th>\n",
       "      <th>Profit/Losses</th>\n",
       "    </tr>\n",
       "    <tr>\n",
       "      <th>Date</th>\n",
       "      <th></th>\n",
       "    </tr>\n",
       "  </thead>\n",
       "  <tbody>\n",
       "    <tr>\n",
       "      <th>Jan-2010</th>\n",
       "      <td>867884</td>\n",
       "    </tr>\n",
       "    <tr>\n",
       "      <th>Feb-2010</th>\n",
       "      <td>984655</td>\n",
       "    </tr>\n",
       "    <tr>\n",
       "      <th>Mar-2010</th>\n",
       "      <td>322013</td>\n",
       "    </tr>\n",
       "    <tr>\n",
       "      <th>Apr-2010</th>\n",
       "      <td>-69417</td>\n",
       "    </tr>\n",
       "    <tr>\n",
       "      <th>May-2010</th>\n",
       "      <td>310503</td>\n",
       "    </tr>\n",
       "  </tbody>\n",
       "</table>\n",
       "</div>"
      ],
      "text/plain": [
       "          Profit/Losses\n",
       "Date                   \n",
       "Jan-2010         867884\n",
       "Feb-2010         984655\n",
       "Mar-2010         322013\n",
       "Apr-2010         -69417\n",
       "May-2010         310503"
      ]
     },
     "execution_count": 2,
     "metadata": {},
     "output_type": "execute_result"
    }
   ],
   "source": [
    "csvpath = Path(\"../PyBank/Resources/budget_data.csv\")\n",
    "\n",
    "budgetdata_df = pd.read_csv(csvpath, index_col= \"Date\" )\n",
    "budgetdata_df.head()"
   ]
  },
  {
   "cell_type": "code",
   "execution_count": 3,
   "metadata": {},
   "outputs": [],
   "source": [
    "# Initialize the metric variables\n",
    "count = 0\n",
    "total = 0\n",
    "average = 0\n",
    "minimum = 0\n",
    "maximum = 0\n",
    "\n",
    "# Initialize lists to hold profitable and unprofitable day profits/losses\n",
    "profitable_days = []\n",
    "unprofitable_days = []"
   ]
  },
  {
   "cell_type": "code",
   "execution_count": 4,
   "metadata": {},
   "outputs": [
    {
     "data": {
      "text/plain": [
       "Date\n",
       "Jan-2010    867884\n",
       "Feb-2010    984655\n",
       "Mar-2010    322013\n",
       "Apr-2010    -69417\n",
       "May-2010    310503\n",
       "             ...  \n",
       "Oct-2016    102685\n",
       "Nov-2016    795914\n",
       "Dec-2016     60988\n",
       "Jan-2017    138230\n",
       "Feb-2017    671099\n",
       "Name: Profit/Losses, Length: 86, dtype: int64"
      ]
     },
     "execution_count": 4,
     "metadata": {},
     "output_type": "execute_result"
    }
   ],
   "source": [
    "budgetdata_pnl = budgetdata_df[\"Profit/Losses\"]\n",
    "budgetdata_pnl"
   ]
  },
  {
   "cell_type": "code",
   "execution_count": 5,
   "metadata": {},
   "outputs": [
    {
     "name": "stdout",
     "output_type": "stream",
     "text": [
      "Financial Analysis\n",
      "-------------------------\n",
      "Total Months: 86\n",
      "-------------------------------------\n",
      "Total: $ 38382578\n"
     ]
    }
   ],
   "source": [
    "# Initialize the metric variables\n",
    "count = 0\n",
    "total = 0\n",
    "\n",
    "# Iterate over each element of the list\n",
    "for day_pnl in budgetdata_pnl:\n",
    "\n",
    "    # Cumulatively sum up the total profits/losses and count of trading days\n",
    "    total += day_pnl\n",
    "    count += 1\n",
    "\n",
    "# Print out the summary statistics\n",
    "print(\"Financial Analysis\")\n",
    "print(\"-------------------------\")\n",
    "print(f\"Total Months: {count}\")\n",
    "print(\"-------------------------------------\")\n",
    "print(f\"Total: $ {total}\")\n",
    "# print(f\"Average Change: {monthly_mean}\")\n",
    "# print(f\"Greatest Decrease in Profits: {monthly_min}\")\n",
    "# print(f\"Greatest Increase in Profits: {monthly_max}\")\n"
   ]
  },
  {
   "cell_type": "code",
   "execution_count": 6,
   "metadata": {},
   "outputs": [
    {
     "data": {
      "text/plain": [
       "Date\n",
       "Jan-2010         NaN\n",
       "Feb-2010    116771.0\n",
       "Mar-2010   -662642.0\n",
       "Apr-2010   -391430.0\n",
       "May-2010    379920.0\n",
       "Name: Profit/Losses, dtype: float64"
      ]
     },
     "execution_count": 6,
     "metadata": {},
     "output_type": "execute_result"
    }
   ],
   "source": [
    "monthly_change = (budgetdata_pnl - budgetdata_pnl.shift(1))\n",
    "monthly_change.head()"
   ]
  },
  {
   "cell_type": "code",
   "execution_count": 7,
   "metadata": {},
   "outputs": [],
   "source": [
    "monthly_list = list(monthly_change)\n",
    "\n",
    "monthly_max = int(max(monthly_list[1:]))\n",
    "\n",
    "monthly_min = int(min(monthly_list[1:]))\n",
    "\n",
    "monthly_mean = round(st.mean(monthly_list[1:]),2)\n"
   ]
  },
  {
   "cell_type": "code",
   "execution_count": 8,
   "metadata": {},
   "outputs": [
    {
     "data": {
      "text/plain": [
       "'Sep-2013'"
      ]
     },
     "execution_count": 8,
     "metadata": {},
     "output_type": "execute_result"
    }
   ],
   "source": [
    "t= 0\n",
    "\n",
    "for i in list(monthly_change):\n",
    "    if i == monthly_min:\n",
    "        min_index = t\n",
    "        \n",
    "    if i == monthly_max:\n",
    "        max_index = t\n",
    "    t = t+1\n",
    "    \n",
    "month_decrease = budgetdata_df.index[min_index]\n",
    "month_increase = budgetdata_df.index[max_index]\n",
    "month_decrease\n"
   ]
  },
  {
   "cell_type": "code",
   "execution_count": 9,
   "metadata": {},
   "outputs": [
    {
     "name": "stdout",
     "output_type": "stream",
     "text": [
      "Financial Analysis\n",
      "-------------------------\n",
      "Total Months: 86\n",
      "Total: $ 38382578\n",
      "Average Change: $ -2315.12\n",
      "Greatest Decrease in Profits: Feb-2012 $ (1926159)\n",
      "Greatest Increase in Profits: Sep-2013 $ (-2196167)\n"
     ]
    }
   ],
   "source": [
    "#Print out the summary statistics\n",
    "print(\"Financial Analysis\")\n",
    "print(\"-------------------------\")\n",
    "print(f\"Total Months: {count}\")\n",
    "print(f\"Total: $ {total}\")\n",
    "print(f\"Average Change: $ {monthly_mean}\")\n",
    "print(f\"Greatest Decrease in Profits: {month_increase} $ ({monthly_max})\")\n",
    "print(f\"Greatest Increase in Profits: {month_decrease} $ ({monthly_min})\")"
   ]
  },
  {
   "cell_type": "code",
   "execution_count": null,
   "metadata": {},
   "outputs": [],
   "source": []
  }
 ],
 "metadata": {
  "kernelspec": {
   "display_name": "Python 3",
   "language": "python",
   "name": "python3"
  },
  "language_info": {
   "codemirror_mode": {
    "name": "ipython",
    "version": 3
   },
   "file_extension": ".py",
   "mimetype": "text/x-python",
   "name": "python",
   "nbconvert_exporter": "python",
   "pygments_lexer": "ipython3",
   "version": "3.8.5"
  }
 },
 "nbformat": 4,
 "nbformat_minor": 4
}
