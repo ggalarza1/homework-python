{
 "cells": [
  {
   "cell_type": "code",
   "execution_count": null,
   "metadata": {},
   "outputs": [],
   "source": [
    "```\n",
    "  Financial Analysis\n",
    "  ----------------------------\n",
    "  Total Months: 86\n",
    "  Total: $38382578\n",
    "  Average  Change: $-2315.12\n",
    "  Greatest Increase in Profits: Feb-2012 ($1926159)\n",
    "  Greatest Decrease in Profits: Sep-2013 ($-2196167)\n",
    "\n",
    "```"
   ]
  }
 ],
 "metadata": {
  "kernelspec": {
   "display_name": "Python 3",
   "language": "python",
   "name": "python3"
  },
  "language_info": {
   "codemirror_mode": {
    "name": "ipython",
    "version": 3
   },
   "file_extension": ".py",
   "mimetype": "text/x-python",
   "name": "python",
   "nbconvert_exporter": "python",
   "pygments_lexer": "ipython3",
   "version": "3.8.5"
  }
 },
 "nbformat": 4,
 "nbformat_minor": 4
}
