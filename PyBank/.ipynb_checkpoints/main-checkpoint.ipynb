{
 "cells": [
  {
   "cell_type": "code",
   "execution_count": 1,
   "metadata": {},
   "outputs": [],
   "source": [
    "import pandas as pd\n",
    "from pathlib import Path"
   ]
  },
  {
   "cell_type": "code",
   "execution_count": 2,
   "metadata": {},
   "outputs": [
    {
     "data": {
      "text/html": [
       "<div>\n",
       "<style scoped>\n",
       "    .dataframe tbody tr th:only-of-type {\n",
       "        vertical-align: middle;\n",
       "    }\n",
       "\n",
       "    .dataframe tbody tr th {\n",
       "        vertical-align: top;\n",
       "    }\n",
       "\n",
       "    .dataframe thead th {\n",
       "        text-align: right;\n",
       "    }\n",
       "</style>\n",
       "<table border=\"1\" class=\"dataframe\">\n",
       "  <thead>\n",
       "    <tr style=\"text-align: right;\">\n",
       "      <th></th>\n",
       "      <th>Profit/Losses</th>\n",
       "    </tr>\n",
       "    <tr>\n",
       "      <th>Date</th>\n",
       "      <th></th>\n",
       "    </tr>\n",
       "  </thead>\n",
       "  <tbody>\n",
       "    <tr>\n",
       "      <th>Jan-2010</th>\n",
       "      <td>867884</td>\n",
       "    </tr>\n",
       "    <tr>\n",
       "      <th>Feb-2010</th>\n",
       "      <td>984655</td>\n",
       "    </tr>\n",
       "    <tr>\n",
       "      <th>Mar-2010</th>\n",
       "      <td>322013</td>\n",
       "    </tr>\n",
       "    <tr>\n",
       "      <th>Apr-2010</th>\n",
       "      <td>-69417</td>\n",
       "    </tr>\n",
       "    <tr>\n",
       "      <th>May-2010</th>\n",
       "      <td>310503</td>\n",
       "    </tr>\n",
       "  </tbody>\n",
       "</table>\n",
       "</div>"
      ],
      "text/plain": [
       "          Profit/Losses\n",
       "Date                   \n",
       "Jan-2010         867884\n",
       "Feb-2010         984655\n",
       "Mar-2010         322013\n",
       "Apr-2010         -69417\n",
       "May-2010         310503"
      ]
     },
     "execution_count": 2,
     "metadata": {},
     "output_type": "execute_result"
    }
   ],
   "source": [
    "csvpath = Path(\"../PyBank/Resources/budget_data.csv\")\n",
    "\n",
    "budgetdata_df = pd.read_csv(csvpath, index_col= \"Date\" )\n",
    "budgetdata_df.head()"
   ]
  },
  {
   "cell_type": "code",
   "execution_count": 3,
   "metadata": {},
   "outputs": [],
   "source": [
    "# Initialize the metric variables\n",
    "count = 0\n",
    "total = 0\n",
    "average = 0\n",
    "minimum = 0\n",
    "maximum = 0\n",
    "\n",
    "# Initialize lists to hold profitable and unprofitable day profits/losses\n",
    "profitable_days = []\n",
    "unprofitable_days = []"
   ]
  },
  {
   "cell_type": "code",
   "execution_count": 4,
   "metadata": {},
   "outputs": [
    {
     "data": {
      "text/plain": [
       "Date\n",
       "Jan-2010    867884\n",
       "Feb-2010    984655\n",
       "Mar-2010    322013\n",
       "Apr-2010    -69417\n",
       "May-2010    310503\n",
       "             ...  \n",
       "Oct-2016    102685\n",
       "Nov-2016    795914\n",
       "Dec-2016     60988\n",
       "Jan-2017    138230\n",
       "Feb-2017    671099\n",
       "Name: Profit/Losses, Length: 86, dtype: int64"
      ]
     },
     "execution_count": 4,
     "metadata": {},
     "output_type": "execute_result"
    }
   ],
   "source": [
    "budgetdata_pnl = budgetdata_df[\"Profit/Losses\"]\n",
    "budgetdata_pnl"
   ]
  },
  {
   "cell_type": "code",
   "execution_count": 5,
   "metadata": {},
   "outputs": [
    {
     "name": "stdout",
     "output_type": "stream",
     "text": [
      "Financial Analysis\n",
      "-------------------------\n",
      "Total Months: 86\n",
      "Number of Profitable Days: 74\n",
      "Number of Unprofitable Days: 12\n",
      "-------------------------------------\n",
      "Profitable Days: [867884, 984655, 322013, 310503, 522857, 1033096, 604885, 477532, 893810, 779806, 697845, 793163, 485070, 584122, 62729, 668179, 899906, 834719, 132003, 309978, 1170593, 252788, 1151518, 817256, 570757, 506702, 475062, 779976, 144175, 542494, 359333, 321469, 67780, 471435, 565603, 872480, 789480, 999942, 268997, 1150461, 682458, 617856, 824098, 581943, 132864, 448062, 689161, 800701, 1166643, 947333, 578668, 988505, 1139715, 1029471, 687533, 158620, 87795, 423389, 840723, 568529, 332067, 989499, 778237, 650000, 757143, 445709, 712961, 569899, 768450, 102685, 795914, 60988, 138230, 671099]\n",
      "Unprofitable Days: [-69417, -216386, -80353, -335203, -755566, -1022534, -1196225, -687986, -524626, -1100387, -174946, -1163797]\n",
      "-------------------------------------\n",
      "Total: $ 38382578\n"
     ]
    }
   ],
   "source": [
    "# Iterate over each element of the list\n",
    "for day_pnl in budgetdata_pnl:\n",
    "\n",
    "    # Cumulatively sum up the total profits/losses and count of trading days\n",
    "    total += day_pnl\n",
    "    count += 1\n",
    "\n",
    "    # Logic to determine minimum and maximum values\n",
    "    if minimum == 0:\n",
    "        minimum = day_pnl\n",
    "    elif day_pnl < minimum:\n",
    "        minimum = day_pnl\n",
    "    elif day_pnl > maximum:\n",
    "        maximum = day_pnl\n",
    "\n",
    "    # Logic to determine profitable vs. unprofitable days\n",
    "    if day_pnl > 0:\n",
    "        profitable_days.append(day_pnl)\n",
    "    elif day_pnl <= 0:\n",
    "        unprofitable_days.append(day_pnl)\n",
    "\n",
    "# Calculate the average\n",
    "average = round(total / count, 2)\n",
    "monthly_change = (budgetdata_pnl - budgetdata_pnl.shift(1))\n",
    "\n",
    "# Count metrics\n",
    "profitable_count = len(profitable_days)\n",
    "unprofitable_count = len(unprofitable_days)\n",
    "\n",
    "# Print out the summary statistics\n",
    "print(\"Financial Analysis\")\n",
    "print(\"-------------------------\")\n",
    "print(f\"Total Months: {count}\")\n",
    "print(f\"Number of Profitable Days: {profitable_count}\")\n",
    "print(f\"Number of Unprofitable Days: {unprofitable_count}\")\n",
    "print(\"-------------------------------------\")\n",
    "print(f\"Profitable Days: {profitable_days}\")\n",
    "print(f\"Unprofitable Days: {unprofitable_days}\")\n",
    "print(\"-------------------------------------\")\n",
    "print(f\"Total: $ {total}\")\n",
    "# print(f\"Average Change: {monthly_mean}\")\n",
    "# print(f\"Greatest Decrease in Profits: {monthly_min}\")\n",
    "# print(f\"Greatest Increase in Profits: {monthly_max}\")\n"
   ]
  },
  {
   "cell_type": "code",
   "execution_count": 6,
   "metadata": {},
   "outputs": [
    {
     "data": {
      "text/plain": [
       "Date\n",
       "Jan-2010         NaN\n",
       "Feb-2010    116771.0\n",
       "Mar-2010   -662642.0\n",
       "Apr-2010   -391430.0\n",
       "May-2010    379920.0\n",
       "Name: Profit/Losses, dtype: float64"
      ]
     },
     "execution_count": 6,
     "metadata": {},
     "output_type": "execute_result"
    }
   ],
   "source": [
    "monthly_change = (budgetdata_pnl - budgetdata_pnl.shift(1))\n",
    "monthly_change.head()"
   ]
  },
  {
   "cell_type": "code",
   "execution_count": 7,
   "metadata": {},
   "outputs": [
    {
     "data": {
      "text/plain": [
       "count    8.500000e+01\n",
       "mean    -2.315118e+03\n",
       "std      7.634372e+05\n",
       "min     -2.196167e+06\n",
       "25%     -3.686650e+05\n",
       "50%      7.724200e+04\n",
       "75%      3.983190e+05\n",
       "max      1.926159e+06\n",
       "Name: Profit/Losses, dtype: float64"
      ]
     },
     "execution_count": 7,
     "metadata": {},
     "output_type": "execute_result"
    }
   ],
   "source": [
    "monthly_change.describe()"
   ]
  },
  {
   "cell_type": "code",
   "execution_count": 8,
   "metadata": {},
   "outputs": [
    {
     "data": {
      "text/plain": [
       "max    1926159.0\n",
       "Name: Profit/Losses, dtype: float64"
      ]
     },
     "execution_count": 8,
     "metadata": {},
     "output_type": "execute_result"
    }
   ],
   "source": [
    "monthly_max = monthly_change.describe().loc[['max']]\n",
    "monthly_max"
   ]
  },
  {
   "cell_type": "code",
   "execution_count": 9,
   "metadata": {},
   "outputs": [
    {
     "data": {
      "text/plain": [
       "min   -2196167.0\n",
       "Name: Profit/Losses, dtype: float64"
      ]
     },
     "execution_count": 9,
     "metadata": {},
     "output_type": "execute_result"
    }
   ],
   "source": [
    "monthly_min = monthly_change.describe().loc[['min']]\n",
    "monthly_min"
   ]
  },
  {
   "cell_type": "code",
   "execution_count": 10,
   "metadata": {},
   "outputs": [],
   "source": [
    "monthly_mean = monthly_change.describe().loc[['mean']]"
   ]
  },
  {
   "cell_type": "code",
   "execution_count": 11,
   "metadata": {},
   "outputs": [
    {
     "name": "stdout",
     "output_type": "stream",
     "text": [
      "Financial Analysis\n",
      "-------------------------\n",
      "Total Months: 86\n",
      "Total: $ 38382578\n",
      "Average Change: $ mean   -2315.117647\n",
      "Name: Profit/Losses, dtype: float64\n",
      "Greatest Decrease in Profits: $ max    1926159.0\n",
      "Name: Profit/Losses, dtype: float64\n",
      "Greatest Increase in Profits: $ min   -2196167.0\n",
      "Name: Profit/Losses, dtype: float64\n"
     ]
    }
   ],
   "source": [
    "#Print out the summary statistics\n",
    "print(\"Financial Analysis\")\n",
    "print(\"-------------------------\")\n",
    "print(f\"Total Months: {count}\")\n",
    "print(f\"Total: $ {total}\")\n",
    "print(f\"Average Change: $ {monthly_mean}\")\n",
    "print(f\"Greatest Decrease in Profits: $ {monthly_max}\")\n",
    "print(f\"Greatest Increase in Profits: $ {monthly_min}\")"
   ]
  }
 ],
 "metadata": {
  "kernelspec": {
   "display_name": "Python 3",
   "language": "python",
   "name": "python3"
  },
  "language_info": {
   "codemirror_mode": {
    "name": "ipython",
    "version": 3
   },
   "file_extension": ".py",
   "mimetype": "text/x-python",
   "name": "python",
   "nbconvert_exporter": "python",
   "pygments_lexer": "ipython3",
   "version": "3.8.5"
  }
 },
 "nbformat": 4,
 "nbformat_minor": 4
}
